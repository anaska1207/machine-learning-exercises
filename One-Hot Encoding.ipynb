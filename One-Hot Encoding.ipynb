{
 "cells": [
  {
   "cell_type": "code",
   "execution_count": 16,
   "id": "522e8bfc",
   "metadata": {},
   "outputs": [],
   "source": [
    "import pandas as pd\n",
    "from sklearn.preprocessing import OneHotEncoder\n",
    "pd.set_option('display.max_columns', None)\n"
   ]
  },
  {
   "cell_type": "code",
   "execution_count": 17,
   "id": "278898e3",
   "metadata": {},
   "outputs": [
    {
     "name": "stdout",
     "output_type": "stream",
     "text": [
      "Employee data: \n",
      "   EmployeeID Gender Remarks\n",
      "0          10      M    Good\n",
      "1          15      F    Nice\n",
      "2          20      F    Good\n",
      "3          25      M   Great\n",
      "4          30      F    Nice\n"
     ]
    }
   ],
   "source": [
    "#Building dummy dataset\n",
    "data = {'EmployeeID': [10,15,20,25,30],\n",
    "        'Gender': ['M', 'F', 'F', 'M', 'F'],\n",
    "        'Remarks': ['Good', 'Nice', 'Good', 'Great', 'Nice']\n",
    "        }\n",
    "#Converting into pandas framework\n",
    "df=pd.DataFrame(data)\n",
    "print(f\"Employee data: \\n{df}\")"
   ]
  },
  {
   "cell_type": "code",
   "execution_count": null,
   "id": "3450a0f0",
   "metadata": {},
   "outputs": [
    {
     "name": "stdout",
     "output_type": "stream",
     "text": [
      "\n",
      "Categorical columns: ['Gender', 'Remarks']\n",
      "\n",
      "Unique values in Gender: ['M' 'F']\n",
      "\n",
      "Unique values in Remarks: ['Good' 'Nice' 'Great']\n",
      "\n",
      "Encoded data: \n",
      "[[0. 1. 1. 0. 0.]\n",
      " [1. 0. 0. 0. 1.]\n",
      " [1. 0. 1. 0. 0.]\n",
      " [0. 1. 0. 1. 0.]\n",
      " [1. 0. 0. 0. 1.]]\n",
      "\n",
      "Encoded DataFrame: \n",
      "   Gender_F  Gender_M  Remarks_Good  Remarks_Great  Remarks_Nice\n",
      "0       0.0       1.0           1.0            0.0           0.0\n",
      "1       1.0       0.0           0.0            0.0           1.0\n",
      "2       1.0       0.0           1.0            0.0           0.0\n",
      "3       0.0       1.0           0.0            1.0           0.0\n",
      "4       1.0       0.0           0.0            0.0           1.0\n",
      "\n",
      "Final DataFrame: \n",
      "   EmployeeID Gender Remarks  Gender_F  Gender_M  Remarks_Good  Remarks_Great  \\\n",
      "0          10      M    Good       0.0       1.0           1.0            0.0   \n",
      "1          15      F    Nice       1.0       0.0           0.0            0.0   \n",
      "2          20      F    Good       1.0       0.0           1.0            0.0   \n",
      "3          25      M   Great       0.0       1.0           0.0            1.0   \n",
      "4          30      F    Nice       1.0       0.0           0.0            0.0   \n",
      "\n",
      "   Remarks_Nice  \n",
      "0           0.0  \n",
      "1           1.0  \n",
      "2           0.0  \n",
      "3           0.0  \n",
      "4           1.0  \n"
     ]
    }
   ],
   "source": [
    "#Excracting categorical columns\n",
    "cat_columns = df.select_dtypes(include=['object']).columns.tolist()#objects dataypes are categorical\n",
    "print(f\"\\nCategorical columns: {cat_columns}\")\n",
    "for col in cat_columns:\n",
    "    print(f\"\\nUnique values in {col}: {df[col].unique()}\")\n",
    "\n",
    "#Creating OneHotEncoder object\n",
    "encoder = OneHotEncoder(sparse_output=False)\n",
    "\n",
    "#Fitting and transforming the data\n",
    "encoded_data = encoder.fit_transform(df[cat_columns])\n",
    "print(f\"\\nEncoded data: \\n{encoded_data}\")\n",
    "\n",
    "#Creating dataframe from the encoded data\n",
    "encoded_df = pd.DataFrame(encoded_data, columns=encoder.get_feature_names_out(cat_columns))\n",
    "print(f\"\\nEncoded DataFrame: \\n{encoded_df}\")\n",
    "\n",
    "#Concatenating the original dataframe with the encoded dataframe\n",
    "final_df = pd.concat([df, encoded_df], axis=1)\n",
    "print(f\"\\nFinal DataFrame: \\n{final_df}\")"
   ]
  }
 ],
 "metadata": {
  "kernelspec": {
   "display_name": "Python 3",
   "language": "python",
   "name": "python3"
  },
  "language_info": {
   "codemirror_mode": {
    "name": "ipython",
    "version": 3
   },
   "file_extension": ".py",
   "mimetype": "text/x-python",
   "name": "python",
   "nbconvert_exporter": "python",
   "pygments_lexer": "ipython3",
   "version": "3.13.0"
  }
 },
 "nbformat": 4,
 "nbformat_minor": 5
}
